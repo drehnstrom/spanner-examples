{
  "nbformat": 4,
  "nbformat_minor": 0,
  "metadata": {
    "colab": {
      "provenance": [],
      "authorship_tag": "ABX9TyP6bblcEhczHPFXVQvGCAUm",
      "include_colab_link": true
    },
    "kernelspec": {
      "name": "python3",
      "display_name": "Python 3"
    },
    "language_info": {
      "name": "python"
    }
  },
  "cells": [
    {
      "cell_type": "markdown",
      "metadata": {
        "id": "view-in-github",
        "colab_type": "text"
      },
      "source": [
        "<a href=\"https://colab.research.google.com/github/drehnstrom/spanner-examples/blob/main/colab-notebooks/Spanner_Samples.ipynb\" target=\"_parent\"><img src=\"https://colab.research.google.com/assets/colab-badge.svg\" alt=\"Open In Colab\"/></a>"
      ]
    },
    {
      "cell_type": "markdown",
      "source": [
        "## Authenticate to Google Cloud\n",
        "\n",
        "You need to log into Google Cloud with a valid account before running the notebook. Your account has to have permissions to create Spanner databases. \n",
        "\n",
        "You also need a project with Spanner enabled."
      ],
      "metadata": {
        "id": "vRK4p-Lr5lIX"
      }
    },
    {
      "cell_type": "code",
      "execution_count": null,
      "metadata": {
        "id": "wRxxrLvbVhye"
      },
      "outputs": [],
      "source": [
        "from google.colab import auth\n",
        "auth.authenticate_user()\n",
        "print('You are authenticated!')"
      ]
    },
    {
      "cell_type": "markdown",
      "source": [
        "## Install the Spanner Python API\n",
        "\n",
        "You will be prompted to restart the runtime. Do so. "
      ],
      "metadata": {
        "id": "yir3_hhI6El2"
      }
    },
    {
      "cell_type": "code",
      "source": [
        "! pip install --upgrade google-cloud-spanner"
      ],
      "metadata": {
        "id": "zIAMqF3FV2qQ"
      },
      "execution_count": null,
      "outputs": []
    },
    {
      "cell_type": "markdown",
      "source": [
        "## Set the following variables \n",
        "\n",
        "You at least need to change the Project ID variable to your project's ID. You can change the other variables if you like. "
      ],
      "metadata": {
        "id": "FLsnZvxW6YN3"
      }
    },
    {
      "cell_type": "code",
      "source": [
        "project_id = 'roi-spanner'\n",
        "instance_id = 'my-spanner-instance'\n",
        "processing_units = 100\n",
        "database_id = 'pets-db'\n",
        "\n",
        "OPERATION_TIMEOUT_SECONDS = 240\n",
        "\n",
        "print(\"Done\")"
      ],
      "metadata": {
        "id": "Fvl1JzxrWkl3"
      },
      "execution_count": null,
      "outputs": []
    },
    {
      "cell_type": "markdown",
      "source": [
        "## Create a Spanner Instance"
      ],
      "metadata": {
        "id": "-VjmkR1Y6VMX"
      }
    },
    {
      "cell_type": "code",
      "source": [
        "import time\n",
        "from google.cloud import spanner\n",
        "\n",
        "def create_instance_with_processing_units(instance_id, processing_units):\n",
        "    \"\"\"Creates an instance.\"\"\"\n",
        "    spanner_client = spanner.Client(project=project_id)\n",
        "\n",
        "    config_name = \"{}/instanceConfigs/regional-us-central1\".format(\n",
        "        spanner_client.project_name\n",
        "    )\n",
        "\n",
        "    instance = spanner_client.instance(\n",
        "        instance_id,\n",
        "        configuration_name=config_name,\n",
        "        display_name=\"spanner-instance-python\",\n",
        "        # Use node_count attribute to create instance using nodes\n",
        "        # instead of Processing Units\n",
        "        # node_count = 1,\n",
        "        processing_units=processing_units,\n",
        "        labels={\n",
        "            \"created\": str(int(time.time())),\n",
        "        },\n",
        "    )\n",
        "\n",
        "    # create() returns a long-running operation\n",
        "    operation = instance.create()\n",
        "\n",
        "    print(\"Waiting for operation to complete...\")\n",
        "    operation.result(OPERATION_TIMEOUT_SECONDS)\n",
        "\n",
        "    print(\n",
        "        \"Created instance {} with {} processing units\".format(\n",
        "            instance_id, instance.processing_units\n",
        "        )\n",
        "    )\n",
        "\n",
        "\n",
        "# Call the function\n",
        "create_instance_with_processing_units(instance_id, processing_units)"
      ],
      "metadata": {
        "id": "yqVnvI12XKAq"
      },
      "execution_count": null,
      "outputs": []
    },
    {
      "cell_type": "markdown",
      "source": [
        "## Create the Pets Database"
      ],
      "metadata": {
        "id": "0rl6983F67Cw"
      }
    },
    {
      "cell_type": "code",
      "source": [
        "def create_database(instance_id, database_id):\n",
        "    \"\"\"Creates a database and tables for sample data.\"\"\"\n",
        "    spanner_client = spanner.Client(project=project_id)\n",
        "    instance = spanner_client.instance(instance_id)\n",
        "\n",
        "    database = instance.database(\n",
        "        database_id,\n",
        "        ddl_statements=[\n",
        "            \"\"\"CREATE TABLE Owners (\n",
        "                  OwnerID STRING(36) NOT NULL,\n",
        "                  OwnerName STRING(MAX) NOT NULL\n",
        "               ) PRIMARY KEY (OwnerID)\"\"\",\n",
        "            \"\"\"CREATE TABLE Pets (\n",
        "                  PetID STRING(36) NOT NULL, \n",
        "                  OwnerID STRING(36) NOT NULL, \n",
        "                  PetType STRING(MAX) NOT NULL,\n",
        "                  PetName STRING(MAX) NOT NULL,\n",
        "                  Breed STRING(MAX) NOT NULL,\n",
        "                  CONSTRAINT FK_OwnerPet FOREIGN KEY (OwnerID) REFERENCES Owners (OwnerID),\n",
        "              ) PRIMARY KEY (PetID)\"\"\",\n",
        "            \"\"\"CREATE INDEX PetsByOwnerID ON Pets(OwnerID)\"\"\",\n",
        "            \"\"\"CREATE INDEX PetsByType ON Pets(PetType)\"\"\",\n",
        "            \"\"\"CREATE INDEX OwnersByName ON Owners(OwnerName)\"\"\",\n",
        "        ],\n",
        "    )\n",
        "\n",
        "    # create() returns a long-running operation\n",
        "    operation = database.create()\n",
        "\n",
        "    print(\"Waiting for operation to complete...\")\n",
        "    operation.result(OPERATION_TIMEOUT_SECONDS)\n",
        "\n",
        "    print(\"Created database {} on instance {}\".format(database_id, instance_id))\n",
        "\n",
        "create_database(instance_id, database_id)\n"
      ],
      "metadata": {
        "id": "qx2igXsmaUF5"
      },
      "execution_count": null,
      "outputs": []
    },
    {
      "cell_type": "markdown",
      "source": [
        "## This just show the Data Definition code for the Pets database "
      ],
      "metadata": {
        "id": "02th_8rh7H6c"
      }
    },
    {
      "cell_type": "code",
      "source": [
        "def get_database_ddl(instance_id, database_id):\n",
        "    \"\"\"Gets the database DDL statements.\"\"\"\n",
        "    spanner_client = spanner.Client(project=project_id)\n",
        "    instance = spanner_client.instance(instance_id)\n",
        "    database = instance.database(database_id)\n",
        "    ddl = spanner_client.database_admin_api.get_database_ddl(database=database.name)\n",
        "\n",
        "    print(\"Retrieved database DDL for {}\".format(database_id))\n",
        "\n",
        "    for statement in ddl.statements:\n",
        "        print(statement)\n",
        "\n",
        "\n",
        "get_database_ddl(instance_id, database_id)"
      ],
      "metadata": {
        "id": "gqFB2R8lcADM"
      },
      "execution_count": null,
      "outputs": []
    },
    {
      "cell_type": "markdown",
      "source": [
        "## Add a few test records"
      ],
      "metadata": {
        "id": "O1HFjqG37SJY"
      }
    },
    {
      "cell_type": "code",
      "source": [
        "import uuid\n",
        "\n",
        "def insert_data(instance_id, database_id):\n",
        "    doug_id = str(uuid.uuid4())\n",
        "    john_id = str(uuid.uuid4())\n",
        "    sue_id = str(uuid.uuid4())\n",
        "\n",
        "    spanner_client = spanner.Client(project=project_id)\n",
        "    instance = spanner_client.instance(instance_id)\n",
        "    database = instance.database(database_id)\n",
        "\n",
        "    with database.batch() as batch:\n",
        "        batch.insert(\n",
        "            table=\"Owners\",\n",
        "            columns=(\"OwnerID\", \"OwnerName\"),\n",
        "            values=[\n",
        "                (doug_id, u\"Doug\"),\n",
        "                (john_id, u\"John\"),\n",
        "                (sue_id, u\"Sue\"),\n",
        "            ],\n",
        "        )\n",
        "\n",
        "        batch.insert(\n",
        "            table=\"Pets\",\n",
        "            columns=(\"PetID\", \"OwnerID\", \"PetType\", \"PetName\", \"Breed\"),\n",
        "            values=[\n",
        "                (str(uuid.uuid4()), doug_id, u\"Dog\", u\"Noir\", u\"Schnoodle\"),\n",
        "                (str(uuid.uuid4()), doug_id, u\"Dog\", u\"Bree\", u\"Mutt\"),\n",
        "                (str(uuid.uuid4()), doug_id, u\"Cat\", u\"Tom\", u\"Alley\"),\n",
        "                (str(uuid.uuid4()), john_id, u\"Dog\", u\"Duke\", u\"GoldenDoodle\"),\\\n",
        "                (str(uuid.uuid4()), john_id, u\"Dog\", u\"Sparky\", u\"Poodle\"),\n",
        "                (str(uuid.uuid4()), john_id, u\"Turtle\", u\"Cuff\", u\"Box\"),\n",
        "                (str(uuid.uuid4()), john_id, u\"Turtle\", u\"Link\", u\"Box\"),\n",
        "                (str(uuid.uuid4()), sue_id, u\"Cat\", u\"Cleo\", u\"Domestic\"),\n",
        "            ],\n",
        "        )\n",
        "\n",
        "    print(\"Inserted data.\")\n",
        "\n",
        "\n",
        "insert_data(instance_id, database_id)"
      ],
      "metadata": {
        "id": "8z84NIQBcTzj"
      },
      "execution_count": null,
      "outputs": []
    },
    {
      "cell_type": "markdown",
      "source": [
        "## Run a query using SQL"
      ],
      "metadata": {
        "id": "GDM4oSmb7WiY"
      }
    },
    {
      "cell_type": "code",
      "source": [
        "def run_simple_query(sql):\n",
        "  # Instantiate a client.\n",
        "  spanner_client = spanner.Client(project=project_id)\n",
        "\n",
        "  # Get a Cloud Spanner instance by ID.\n",
        "  instance = spanner_client.instance(instance_id)\n",
        "\n",
        "  # Get a Cloud Spanner database by ID.\n",
        "  database = instance.database(database_id)\n",
        "\n",
        "  # Execute a simple SQL statement.\n",
        "  with database.snapshot() as snapshot:\n",
        "      results = snapshot.execute_sql(sql)\n",
        "      for row in results:\n",
        "        print(row)\n",
        "\n",
        "\n",
        "sql = \"\"\"SELECT OwnerName, PetName, PetType, Breed \n",
        "         FROM Owners \n",
        "         JOIN Pets ON Owners.OwnerID = Pets.OwnerID;\"\"\"\n",
        "\n",
        "\n",
        "run_simple_query(sql)"
      ],
      "metadata": {
        "id": "jM79QuodVlF2"
      },
      "execution_count": null,
      "outputs": []
    },
    {
      "cell_type": "markdown",
      "source": [
        "## Read data from a table"
      ],
      "metadata": {
        "id": "tIaIEp0k-luw"
      }
    },
    {
      "cell_type": "code",
      "source": [
        "def read_data(instance_id, database_id):\n",
        "    \"\"\"Reads sample data from the database.\"\"\"\n",
        "    spanner_client = spanner.Client(project=project_id)\n",
        "    instance = spanner_client.instance(instance_id)\n",
        "    database = instance.database(database_id)\n",
        "\n",
        "    with database.snapshot() as snapshot:\n",
        "        keyset = spanner.KeySet(all_=True)\n",
        "        results = snapshot.read(\n",
        "            table=\"Pets\", columns=(\"PetID\", \"PetName\", \"PetType\", \"Breed\"), keyset=keyset\n",
        "        )\n",
        "\n",
        "        for row in results:\n",
        "            print(u\"PetID: {}, PetName: {}, PetType: {}, Breed: {}\".format(*row))\n",
        "\n",
        "\n",
        "# Call the function\n",
        "read_data(instance_id, database_id)"
      ],
      "metadata": {
        "id": "5rqQrEcL980A"
      },
      "execution_count": null,
      "outputs": []
    },
    {
      "cell_type": "markdown",
      "source": [
        "## Stale Read\n",
        "\n",
        "Reads sample data from the database. The data is exactly 15 seconds stale."
      ],
      "metadata": {
        "id": "UNONRfo1-0_k"
      }
    },
    {
      "cell_type": "code",
      "source": [
        "def read_stale_data(instance_id, database_id):\n",
        "\n",
        "    import datetime\n",
        "\n",
        "    spanner_client = spanner.Client(project=project_id)\n",
        "    instance = spanner_client.instance(instance_id)\n",
        "    database = instance.database(database_id)\n",
        "\n",
        "    # Everything is the same as the prior example except staleness\n",
        "    staleness = datetime.timedelta(seconds=15)\n",
        "    with database.snapshot(exact_staleness=staleness) as snapshot:\n",
        "        keyset = spanner.KeySet(all_=True)\n",
        "        results = snapshot.read(\n",
        "            table=\"Pets\", columns=(\"PetID\", \"PetName\", \"PetType\", \"Breed\"), keyset=keyset,\n",
        "        )\n",
        "\n",
        "        for row in results:\n",
        "            print(u\"PetID: {}, PetName: {}, PetType: {}, Breed: {}\".format(*row))\n",
        "\n",
        "# Call the function\n",
        "read_stale_data(instance_id, database_id)\n"
      ],
      "metadata": {
        "id": "xX-l9U8I-vu1"
      },
      "execution_count": null,
      "outputs": []
    },
    {
      "cell_type": "markdown",
      "source": [
        "## Run Query using Index with Parameters"
      ],
      "metadata": {
        "id": "rAk-dCtZ_9bB"
      }
    },
    {
      "cell_type": "code",
      "source": [
        "def query_data_with_index(instance_id, database_id, owner_name=\"Doug\"):\n",
        "\n",
        "    spanner_client = spanner.Client(project=project_id)\n",
        "    instance = spanner_client.instance(instance_id)\n",
        "    database = instance.database(database_id)\n",
        "\n",
        "    params = {\"owner_name\": owner_name}\n",
        "    param_types = {\n",
        "        \"owner_name\": spanner.param_types.STRING,\n",
        "    }\n",
        "\n",
        "    with database.snapshot() as snapshot:\n",
        "        results = snapshot.execute_sql(\n",
        "            \"\"\"SELECT OwnerName, PetName, PetType, Breed \n",
        "               FROM Owners \n",
        "               JOIN Pets ON Owners.OwnerID = Pets.OwnerID \n",
        "               WHERE OwnerName = @owner_name\"\"\"\n",
        "            \"\",\n",
        "            params=params,\n",
        "            param_types=param_types,\n",
        "        )\n",
        "\n",
        "        for row in results:\n",
        "            print(row)\n",
        "\n",
        "query_data_with_index(instance_id, database_id, \"John\")"
      ],
      "metadata": {
        "id": "KkikPKzQ_7oQ"
      },
      "execution_count": null,
      "outputs": []
    },
    {
      "cell_type": "markdown",
      "source": [
        "## Run Query using Index"
      ],
      "metadata": {
        "id": "coBd8Nu5F6uq"
      }
    },
    {
      "cell_type": "code",
      "source": [
        "def get_pets_by_type(instance_id, database_id, pet_type=\"Dog\"):\n",
        "\n",
        "    spanner_client = spanner.Client(project=project_id)\n",
        "    instance = spanner_client.instance(instance_id)\n",
        "    database = instance.database(database_id)\n",
        "\n",
        "    params = {\"pet_type\": pet_type}\n",
        "    param_types = {\n",
        "        \"pet_type\": spanner.param_types.STRING,\n",
        "    }\n",
        "\n",
        "    with database.snapshot() as snapshot:\n",
        "        results = snapshot.execute_sql(\n",
        "            \"\"\"SELECT *\n",
        "               FROM Pets@{FORCE_INDEX=PetsByType} \n",
        "               WHERE PetType = @pet_type\"\"\"\n",
        "            \"\",\n",
        "            params=params,\n",
        "            param_types=param_types,\n",
        "        )\n",
        "\n",
        "        for row in results:\n",
        "            print(row)\n",
        "\n",
        "get_pets_by_type(instance_id, database_id, pet_type=\"Dog\")"
      ],
      "metadata": {
        "id": "KTaMUdYoFdel"
      },
      "execution_count": null,
      "outputs": []
    },
    {
      "cell_type": "markdown",
      "source": [
        "## Read data with an Index"
      ],
      "metadata": {
        "id": "5dLgdXasGcTl"
      }
    },
    {
      "cell_type": "code",
      "source": [
        "def read_owners_with_index(instance_id, database_id):\n",
        "    \n",
        "    spanner_client = spanner.Client(project=project_id)\n",
        "    instance = spanner_client.instance(instance_id)\n",
        "    database = instance.database(database_id)\n",
        "\n",
        "    with database.snapshot() as snapshot:\n",
        "        keyset = spanner.KeySet(all_=True)\n",
        "        results = snapshot.read(\n",
        "            table=\"Owners\", \n",
        "            columns=(\"OwnerName\",), \n",
        "            keyset=keyset,\n",
        "            index=\"OwnersByName\",\n",
        "        )\n",
        "\n",
        "        for row in results:\n",
        "          print(row)\n",
        "\n",
        "\n",
        "read_owners_with_index(instance_id, database_id)"
      ],
      "metadata": {
        "id": "5vpqL0cCGX14"
      },
      "execution_count": null,
      "outputs": []
    },
    {
      "cell_type": "markdown",
      "source": [
        "## Add an Index"
      ],
      "metadata": {
        "id": "ytSK-3PWTOrz"
      }
    },
    {
      "cell_type": "code",
      "source": [
        "def add_index(instance_id, database_id):\n",
        "    \"\"\"Adds a simple index to the example database.\"\"\"\n",
        "    spanner_client = spanner.Client(project=project_id)\n",
        "    instance = spanner_client.instance(instance_id)\n",
        "    database = instance.database(database_id)\n",
        "\n",
        "    operation = database.update_ddl(\n",
        "        [\"CREATE INDEX PetsByTypeBreedName ON Pets(PetType,Breed,PetName)\"]\n",
        "    )\n",
        "\n",
        "    print(\"Waiting for operation to complete...\")\n",
        "    operation.result(OPERATION_TIMEOUT_SECONDS)\n",
        "\n",
        "    print(\"Added the PetsByTypeBreedName index.\")\n",
        "\n",
        "# Call the function\n",
        "add_index(instance_id, database_id)"
      ],
      "metadata": {
        "id": "RqaDGQQ9TSmC"
      },
      "execution_count": null,
      "outputs": []
    },
    {
      "cell_type": "markdown",
      "source": [
        "## Read with Index just Created\n"
      ],
      "metadata": {
        "id": "5Y51OmRVUGoO"
      }
    },
    {
      "cell_type": "code",
      "source": [
        "def read_pets_with_index(instance_id, database_id):\n",
        "    \n",
        "    spanner_client = spanner.Client(project=project_id)\n",
        "    instance = spanner_client.instance(instance_id)\n",
        "    database = instance.database(database_id)\n",
        "\n",
        "    with database.snapshot() as snapshot:\n",
        "        keyset = spanner.KeySet(all_=True)\n",
        "        results = snapshot.read(\n",
        "            table=\"Pets\", \n",
        "            columns=(\"PetType\",\"Breed\",\"PetName\"), \n",
        "            keyset=keyset,\n",
        "            index=\"PetsByTypeBreedName\",\n",
        "        )\n",
        "\n",
        "        for row in results:\n",
        "          print(row)\n",
        "\n",
        "# Call the function\n",
        "read_pets_with_index(instance_id, database_id)"
      ],
      "metadata": {
        "id": "_QTAQW7TUGy4"
      },
      "execution_count": null,
      "outputs": []
    },
    {
      "cell_type": "markdown",
      "source": [
        "## Insert some Rows"
      ],
      "metadata": {
        "id": "C8slDHRSVygU"
      }
    },
    {
      "cell_type": "code",
      "source": [
        "import uuid\n",
        "\n",
        "def insert_owner(instance_id, database_id, owner_id, owner_name):\n",
        "    spanner_client = spanner.Client(project=project_id)\n",
        "    instance = spanner_client.instance(instance_id)\n",
        "    database = instance.database(database_id)\n",
        "\n",
        "    def insert_owners(transaction, owner_id, owner_name):\n",
        "        params = {\"owner_id\": owner_id, \n",
        "                  \"owner_name\": owner_name,\n",
        "                  }\n",
        "        param_types = {\n",
        "          \"owner_id\": spanner.param_types.STRING,\n",
        "          \"owner_name\": spanner.param_types.STRING,\n",
        "          } \n",
        "\n",
        "        row_ct = transaction.execute_update(\n",
        "            \"\"\"INSERT Owners (OwnerID, OwnerName)\n",
        "               VALUES (@owner_id, @owner_name)\"\"\",\n",
        "               params=params,\n",
        "               param_types=param_types,\n",
        "        )\n",
        "        print(\"{} record(s) inserted.\".format(row_ct))\n",
        "\n",
        "    database.run_in_transaction(insert_owners, owner_id, owner_name)\n",
        "\n",
        "\n",
        "\n",
        "# Call the function\n",
        "insert_owner(instance_id, database_id, str(uuid.uuid4()), \"Dave\" )\n"
      ],
      "metadata": {
        "id": "BFOmTalRVyrx"
      },
      "execution_count": null,
      "outputs": []
    },
    {
      "cell_type": "markdown",
      "source": [
        "## Run Update Query with Partitioned DML"
      ],
      "metadata": {
        "id": "Wl5bXrwVYwa8"
      }
    },
    {
      "cell_type": "code",
      "source": [
        "def update_data_with_dml(instance_id, database_id):\n",
        "    \n",
        "    spanner_client = spanner.Client(project=project_id)\n",
        "    instance = spanner_client.instance(instance_id)\n",
        "    database = instance.database(database_id)\n",
        "\n",
        "    row_ct = database.execute_partitioned_dml(\n",
        "    \"\"\"UPDATE Pets SET PetType = 'Canine'\n",
        "       WHERE PetType = 'Dog'\"\"\")\n",
        "    \n",
        "    print(\"{} record(s) updated.\".format(row_ct))\n",
        "\n",
        "\n",
        "# Call the function\n",
        "update_data_with_dml(instance_id, database_id)"
      ],
      "metadata": {
        "id": "WQutbU8N_goO"
      },
      "execution_count": null,
      "outputs": []
    },
    {
      "cell_type": "markdown",
      "source": [
        "## Check Changes"
      ],
      "metadata": {
        "id": "tiokdY7YZfnA"
      }
    },
    {
      "cell_type": "code",
      "source": [
        "def run_query(sql):\n",
        "  spanner_client = spanner.Client(project=project_id)\n",
        "  instance = spanner_client.instance(instance_id)\n",
        "  database = instance.database(database_id)\n",
        "\n",
        "  # Execute a simple SQL statement.\n",
        "  with database.snapshot() as snapshot:\n",
        "      results = snapshot.execute_sql(sql)\n",
        "      for row in results:\n",
        "        print(row)\n",
        "\n",
        "\n",
        "sql = \"\"\"SELECT OwnerName, PetName, PetType, Breed \n",
        "         FROM Owners \n",
        "         LEFT JOIN Pets ON Owners.OwnerID = Pets.OwnerID;\"\"\"\n",
        "\n",
        "run_query(sql)"
      ],
      "metadata": {
        "id": "-k9FzD27Zfwt"
      },
      "execution_count": null,
      "outputs": []
    },
    {
      "cell_type": "markdown",
      "source": [
        "## Run Read-Only Transaction"
      ],
      "metadata": {
        "id": "12hVh5AMGHtT"
      }
    },
    {
      "cell_type": "code",
      "source": [
        "def read_only_transaction(instance_id, database_id):\n",
        "    spanner_client = spanner.Client(project=project_id)\n",
        "    instance = spanner_client.instance(instance_id)\n",
        "    database = instance.database(database_id)\n",
        "\n",
        "    # Both reads use the same snapshot, so are executed at the same timestamp\n",
        "    with database.snapshot(multi_use=True) as snapshot:\n",
        "        # First Read.\n",
        "        results = snapshot.execute_sql(\"SELECT OwnerName FROM Owners\")\n",
        "\n",
        "        print(\"Results from first read:\")\n",
        "        for row in results:\n",
        "            print(row)\n",
        "\n",
        "        #Second Read\n",
        "        results = snapshot.execute_sql(\"SELECT PetName, PetType, Breed FROM Pets\")\n",
        "\n",
        "        print(\"Results from second read:\")\n",
        "        for row in results:\n",
        "            print(row)\n",
        "\n",
        "\n",
        "read_only_transaction(instance_id, database_id)"
      ],
      "metadata": {
        "id": "UOzuVOZkIXXj"
      },
      "execution_count": null,
      "outputs": []
    },
    {
      "cell_type": "markdown",
      "source": [
        "## Delete All the Data"
      ],
      "metadata": {
        "id": "_AVdvElrZ-aG"
      }
    },
    {
      "cell_type": "code",
      "source": [
        "def delete_data_with_dml(instance_id, database_id):\n",
        "    \n",
        "    spanner_client = spanner.Client(project=project_id)\n",
        "    instance = spanner_client.instance(instance_id)\n",
        "    database = instance.database(database_id)\n",
        "\n",
        "    def delete_pets_owners(transaction):\n",
        "        row_ct = transaction.execute_update(\n",
        "            \"DELETE FROM Pets WHERE true = true\"\n",
        "        )\n",
        "        row_ct += transaction.execute_update(\n",
        "            \"DELETE FROM Owners WHERE true = true\"\n",
        "        )\n",
        "\n",
        "        print(\"{} record(s) deleted.\".format(row_ct))\n",
        "\n",
        "    database.run_in_transaction(delete_pets_owners)\n",
        "\n",
        "# Call the function\n",
        "delete_data_with_dml(instance_id, database_id)\n"
      ],
      "metadata": {
        "id": "SImpKl-3aCD9",
        "outputId": "75e38d9c-f4d3-4947-be78-50f80fd21796",
        "colab": {
          "base_uri": "https://localhost:8080/"
        }
      },
      "execution_count": 26,
      "outputs": [
        {
          "output_type": "stream",
          "name": "stdout",
          "text": [
            "13 record(s) deleted.\n"
          ]
        }
      ]
    },
    {
      "cell_type": "markdown",
      "source": [
        "## Delete the Database"
      ],
      "metadata": {
        "id": "KkFNBsunbZ8t"
      }
    },
    {
      "cell_type": "code",
      "source": [
        "def delete_database(instance_id, database_id):\n",
        "    \n",
        "    spanner_client = spanner.Client(project=project_id)\n",
        "    instance = spanner_client.instance(instance_id)\n",
        "    database = instance.database(database_id)\n",
        "    \n",
        "    database.drop()\n",
        "\n",
        "    print(\"{} database dropped\".format(database_id))\n",
        "\n",
        "    \n",
        "\n",
        "# Call the function\n",
        "delete_database(instance_id, database_id)"
      ],
      "metadata": {
        "id": "UOYfn7bxbZVZ",
        "outputId": "20ee4bbb-ef1f-4d9e-a6d8-979494f4f6a1",
        "colab": {
          "base_uri": "https://localhost:8080/"
        }
      },
      "execution_count": 27,
      "outputs": [
        {
          "output_type": "stream",
          "name": "stdout",
          "text": [
            "pets-db database dropped\n"
          ]
        }
      ]
    },
    {
      "cell_type": "markdown",
      "source": [
        "## Delete the Instance"
      ],
      "metadata": {
        "id": "lWXl0d_UcnU3"
      }
    },
    {
      "cell_type": "code",
      "source": [
        "def delete_spanner_instance(instance_id):\n",
        "    \n",
        "    spanner_client = spanner.Client(project=project_id)\n",
        "    instance = spanner_client.instance(instance_id)\n",
        "    instance.delete()\n",
        "\n",
        "    print(\"{} instance deleted\".format(instance_id))\n",
        "\n",
        "# Call the function\n",
        "delete_spanner_instance(instance_id)"
      ],
      "metadata": {
        "id": "hK3BYqbxcrp3",
        "outputId": "9a63407c-6ab6-4e7a-8b60-b91acb2453a3",
        "colab": {
          "base_uri": "https://localhost:8080/"
        }
      },
      "execution_count": 28,
      "outputs": [
        {
          "output_type": "stream",
          "name": "stdout",
          "text": [
            "my-spanner-instance instance deleted\n"
          ]
        }
      ]
    },
    {
      "cell_type": "code",
      "source": [
        "%%bash\n",
        "\n",
        "gcloud config set project roi-spanner\n",
        "\n",
        "gcloud spanner instances list\n"
      ],
      "metadata": {
        "id": "Y_r1vFhl0qf3",
        "outputId": "0df77f3c-0e56-4dde-ae2d-75c2399b1900",
        "colab": {
          "base_uri": "https://localhost:8080/"
        }
      },
      "execution_count": 29,
      "outputs": [
        {
          "output_type": "stream",
          "name": "stdout",
          "text": [
            "NAME          DISPLAY_NAME  CONFIG                NODE_COUNT  PROCESSING_UNITS  STATE  INSTANCE_TYPE\n",
            "spannerdbsrv  spannerdbsrv  regional-us-central1              100               READY  PROVISIONED\n"
          ]
        },
        {
          "output_type": "stream",
          "name": "stderr",
          "text": [
            "Updated property [core/project].\n"
          ]
        }
      ]
    }
  ]
}
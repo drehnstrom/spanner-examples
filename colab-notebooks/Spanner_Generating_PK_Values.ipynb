{
  "nbformat": 4,
  "nbformat_minor": 0,
  "metadata": {
    "colab": {
      "provenance": [],
      "collapsed_sections": [],
      "include_colab_link": true
    },
    "kernelspec": {
      "name": "python3",
      "display_name": "Python 3"
    },
    "language_info": {
      "name": "python"
    }
  },
  "cells": [
    {
      "cell_type": "markdown",
      "metadata": {
        "id": "view-in-github",
        "colab_type": "text"
      },
      "source": [
        "<a href=\"https://colab.research.google.com/github/drehnstrom/spanner-examples/blob/main/colab-notebooks/Spanner_Generating_PK_Values.ipynb\" target=\"_parent\"><img src=\"https://colab.research.google.com/assets/colab-badge.svg\" alt=\"Open In Colab\"/></a>"
      ]
    },
    {
      "cell_type": "code",
      "execution_count": null,
      "metadata": {
        "id": "SFUWYCWmT3MW"
      },
      "outputs": [],
      "source": [
        "import uuid\n",
        "\n",
        "print(uuid.uuid4())\n",
        "\n",
        "print(str(uuid.uuid4()))"
      ]
    },
    {
      "cell_type": "code",
      "source": [
        "def reverseBits(num,bitSize):\n",
        "    # Convert number into binary representation\n",
        "    # output will be like bin(10) = '0b10101'\n",
        "    binary = bin(num)\n",
        "    \n",
        "    # Skip first two characters of binary\n",
        "    # representation string and reverse\n",
        "    # remaining string and then append zeros\n",
        "    # after it. binary[-1:1:-1]  --> start\n",
        "    # from last character and reverse it until\n",
        "    # second last character from left\n",
        "    reverse = binary[-1:1:-1]\n",
        "    reverse = reverse + (bitSize - len(reverse))*'0'\n",
        "\n",
        "    # converts reversed binary string into integer\n",
        "    return  (int(reverse,2))  \n",
        "\n",
        "print(reverseBits(1,32))\n",
        "print(reverseBits(2,32))\n",
        "print(reverseBits(10,32))\n",
        "print(reverseBits(255,32))\n",
        "print(reverseBits(1111,32))\n",
        "print(reverseBits(2000,32))\n"
      ],
      "metadata": {
        "id": "-T8YOoGzYvEd"
      },
      "execution_count": null,
      "outputs": []
    },
    {
      "cell_type": "code",
      "source": [
        "import binascii\n",
        "\n",
        "text = str(1)\n",
        "encoded = binascii.crc32(text.encode('utf8'))\n",
        "print(encoded)\n",
        "\n",
        "\n",
        "text = str(2)\n",
        "encoded = binascii.crc32(text.encode('utf8'))\n",
        "print(encoded)\n",
        "\n",
        "text = str(3)\n",
        "encoded = binascii.crc32(text.encode('utf8'))\n",
        "print(encoded)\n",
        "\n",
        "text = str(4)\n",
        "encoded = binascii.crc32(text.encode('utf8'))\n",
        "print(encoded)\n",
        "\n",
        "text = str(5)\n",
        "encoded = binascii.crc32(text.encode('utf8'))\n",
        "print(encoded)\n",
        "\n",
        "text = str(50)\n",
        "encoded = binascii.crc32(text.encode('utf8'))\n",
        "print(encoded)\n",
        "\n",
        "text = str(60)\n",
        "encoded = binascii.crc32(text.encode('utf8'))\n",
        "print(encoded)\n",
        "\n",
        "text = str(70)\n",
        "encoded = binascii.crc32(text.encode('utf8'))\n",
        "print(encoded)\n",
        "\n",
        "text = str(80)\n",
        "encoded = binascii.crc32(text.encode('utf8'))\n",
        "print(encoded)\n",
        "\n"
      ],
      "metadata": {
        "id": "vcKzrZYTUnlc"
      },
      "execution_count": null,
      "outputs": []
    }
  ]
}
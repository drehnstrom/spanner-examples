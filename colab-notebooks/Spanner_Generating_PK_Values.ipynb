{
  "nbformat": 4,
  "nbformat_minor": 0,
  "metadata": {
    "colab": {
      "provenance": [],
      "collapsed_sections": [],
      "include_colab_link": true
    },
    "kernelspec": {
      "name": "python3",
      "display_name": "Python 3"
    },
    "language_info": {
      "name": "python"
    }
  },
  "cells": [
    {
      "cell_type": "markdown",
      "metadata": {
        "id": "view-in-github",
        "colab_type": "text"
      },
      "source": [
        "<a href=\"https://colab.research.google.com/github/drehnstrom/spanner-examples/blob/main/colab-notebooks/Spanner_Generating_PK_Values.ipynb\" target=\"_parent\"><img src=\"https://colab.research.google.com/assets/colab-badge.svg\" alt=\"Open In Colab\"/></a>"
      ]
    },
    {
      "cell_type": "code",
      "execution_count": null,
      "metadata": {
        "id": "SFUWYCWmT3MW"
      },
      "outputs": [],
      "source": [
        "import uuid\n",
        "\n",
        "print(str(uuid.uuid4()))"
      ]
    },
    {
      "cell_type": "code",
      "source": [
        "def reverseBits(num,bitSize):\n",
        "    # Convert number into binary representation\n",
        "    # output will be like bin(10) = '0b10101'\n",
        "    binary = bin(num)\n",
        "    \n",
        "    # Skip first two characters of binary\n",
        "    # representation string and reverse\n",
        "    # remaining string and then append zeros\n",
        "    # after it. binary[-1:1:-1]  --> start\n",
        "    # from last character and reverse it until\n",
        "    # second last character from left\n",
        "    reverse = binary[-1:1:-1]\n",
        "    reverse = reverse + (bitSize - len(reverse))*'0'\n",
        "\n",
        "    # converts reversed binary string into integer\n",
        "    return  (int(reverse,2))  \n",
        "\n",
        "\n",
        "values = [1, 2, 3, 4, 5, 50, 75, 100]\n",
        "\n",
        "print(\"Output:\")\n",
        "for value in values: \n",
        "  print(reverseBits(value,32))"
      ],
      "metadata": {
        "id": "-T8YOoGzYvEd"
      },
      "execution_count": null,
      "outputs": []
    },
    {
      "cell_type": "code",
      "source": [
        "import binascii\n",
        "\n",
        "values = [1, 2, 3, 4, 5, 50, 75, 100]\n",
        "\n",
        "print(\"Output:\")\n",
        "for value in values: \n",
        "  encoded = binascii.crc32(str(value).encode('utf8'))\n",
        "  print(encoded)"
      ],
      "metadata": {
        "id": "vcKzrZYTUnlc"
      },
      "execution_count": null,
      "outputs": []
    },
    {
      "cell_type": "code",
      "source": [
        "values = [1, 2, 3, 4, 5, 50, 75, 100]\n",
        "\n",
        "print(\"Output:\")\n",
        "for value in values:\n",
        "  print(hash(str(value)))\n",
        "\n",
        "print(hash(\"ldkjfs\"))"
      ],
      "metadata": {
        "id": "45p9vdmm1L0k"
      },
      "execution_count": null,
      "outputs": []
    }
  ]
}
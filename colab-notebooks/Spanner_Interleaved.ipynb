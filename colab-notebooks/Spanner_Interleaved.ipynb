{
  "nbformat": 4,
  "nbformat_minor": 0,
  "metadata": {
    "colab": {
      "provenance": [],
      "collapsed_sections": []
    },
    "kernelspec": {
      "name": "python3",
      "display_name": "Python 3"
    },
    "language_info": {
      "name": "python"
    }
  },
  "cells": [
    {
      "cell_type": "markdown",
      "source": [
        "## Authenticate to Google Cloud\n",
        "\n",
        "You need to log into Google Cloud with a valid account before running the notebook. Your account has to have permissions to create Spanner databases. \n",
        "\n",
        "You also need a project with Spanner enabled."
      ],
      "metadata": {
        "id": "BcHvf56NAl_d"
      }
    },
    {
      "cell_type": "code",
      "execution_count": null,
      "metadata": {
        "id": "WiqWcppu3yB6"
      },
      "outputs": [],
      "source": [
        "from google.colab import auth\n",
        "auth.authenticate_user()\n",
        "print('You are authenticated!')"
      ]
    },
    {
      "cell_type": "markdown",
      "source": [
        "## Install the Spanner Python API\n",
        "\n",
        "You will be prompted to restart the runtime. Do so."
      ],
      "metadata": {
        "id": "QKBCLNZVAv_j"
      }
    },
    {
      "cell_type": "code",
      "source": [
        "! pip install --upgrade google-cloud-spanner"
      ],
      "metadata": {
        "id": "7uhDuh2B3-CX"
      },
      "execution_count": null,
      "outputs": []
    },
    {
      "cell_type": "markdown",
      "source": [
        "## Set the following variables \n",
        "\n",
        "You at least need to change the Project ID variable to your project's ID. You can change the other variables if you like. "
      ],
      "metadata": {
        "id": "f-wsCeqBAyWl"
      }
    },
    {
      "cell_type": "code",
      "source": [
        "project_id = 'roi-spanner'\n",
        "instance_id = 'spanner-interleaved-ex'\n",
        "processing_units = 100\n",
        "database_id = 'pets-interleaved'\n",
        "\n",
        "OPERATION_TIMEOUT_SECONDS = 240\n",
        "\n",
        "print(\"Done\")"
      ],
      "metadata": {
        "id": "lJIrqAZz4CzU"
      },
      "execution_count": null,
      "outputs": []
    },
    {
      "cell_type": "markdown",
      "source": [
        "## Create a Spanner Instance"
      ],
      "metadata": {
        "id": "iziApd7nA5F1"
      }
    },
    {
      "cell_type": "code",
      "source": [
        "import time\n",
        "from google.cloud import spanner\n",
        "\n",
        "def create_instance_with_processing_units(instance_id, processing_units):\n",
        "    \"\"\"Creates an instance.\"\"\"\n",
        "    spanner_client = spanner.Client(project=project_id)\n",
        "\n",
        "    config_name = \"{}/instanceConfigs/regional-us-central1\".format(\n",
        "        spanner_client.project_name\n",
        "    )\n",
        "\n",
        "    instance = spanner_client.instance(\n",
        "        instance_id,\n",
        "        configuration_name=config_name,\n",
        "        display_name=\"spanner-instance-interleaved\",\n",
        "        processing_units=processing_units,\n",
        "    )\n",
        "\n",
        "    # create() returns a long-running operation\n",
        "    operation = instance.create()\n",
        "\n",
        "    print(\"Waiting for operation to complete...\")\n",
        "    operation.result(OPERATION_TIMEOUT_SECONDS)\n",
        "\n",
        "    print(\n",
        "        \"Created instance {} with {} processing units\".format(\n",
        "            instance_id, instance.processing_units\n",
        "        )\n",
        "    )\n",
        "\n",
        "# Call the function\n",
        "create_instance_with_processing_units(instance_id, processing_units)"
      ],
      "metadata": {
        "id": "fUJGt4or4DgG"
      },
      "execution_count": null,
      "outputs": []
    },
    {
      "cell_type": "markdown",
      "source": [
        "## Create the Pets Database"
      ],
      "metadata": {
        "id": "Ghw0o_qxBFIe"
      }
    },
    {
      "cell_type": "code",
      "source": [
        "def create_database(instance_id, database_id):\n",
        "    \"\"\"Creates a database and tables for sample data.\"\"\"\n",
        "    spanner_client = spanner.Client(project=project_id)\n",
        "    instance = spanner_client.instance(instance_id)\n",
        "\n",
        "    database = instance.database(\n",
        "        database_id,\n",
        "    )\n",
        "\n",
        "    # create() returns a long-running operation\n",
        "    operation = database.create()\n",
        "\n",
        "    print(\"Waiting for operation to complete...\")\n",
        "    operation.result(OPERATION_TIMEOUT_SECONDS)\n",
        "\n",
        "    print(\"Created database {} on instance {}\".format(database_id, instance_id))\n",
        "\n",
        "# Call the function\n",
        "create_database(instance_id, database_id)\n"
      ],
      "metadata": {
        "id": "hpgkaDz24Osx"
      },
      "execution_count": null,
      "outputs": []
    },
    {
      "cell_type": "markdown",
      "source": [
        "## The following functi0n will run DDL statements to build the database schema"
      ],
      "metadata": {
        "id": "VRPYRaVaBHwp"
      }
    },
    {
      "cell_type": "code",
      "source": [
        "def run_ddl_statement(instance_id, database_id, ddl):\n",
        "    \n",
        "    spanner_client = spanner.Client(project=project_id)\n",
        "    instance = spanner_client.instance(instance_id)\n",
        "    database = instance.database(database_id)\n",
        "\n",
        "    operation = database.update_ddl(\n",
        "        [ddl]\n",
        "    )\n",
        "\n",
        "    print(\"Waiting for operation to complete...\")\n",
        "    operation.result(OPERATION_TIMEOUT_SECONDS)\n",
        "\n",
        "    print(\"Ran statement: {}\".format(ddl))\n"
      ],
      "metadata": {
        "id": "6JY0xghs6SaR"
      },
      "execution_count": null,
      "outputs": []
    },
    {
      "cell_type": "markdown",
      "source": [
        "## Create the Owners table"
      ],
      "metadata": {
        "id": "IDA3A4VYBSYp"
      }
    },
    {
      "cell_type": "code",
      "source": [
        "ddl = \"\"\"CREATE TABLE Owners (\n",
        "                  OwnerID STRING(36) NOT NULL,\n",
        "                  OwnerName STRING(MAX) NOT NULL\n",
        "               ) PRIMARY KEY (OwnerID)\"\"\"\n",
        "\n",
        "\n",
        "\n",
        "run_ddl_statement(instance_id, database_id, ddl)"
      ],
      "metadata": {
        "id": "FIf7iqy16_2r"
      },
      "execution_count": null,
      "outputs": []
    },
    {
      "cell_type": "markdown",
      "source": [
        "## Create the Pets table\n",
        "\n",
        "Note: the pets table is interleaved with the Owners table. This means each pet is stored with its owner. The primary key of the Pets table uses both OwnerID and PetID. "
      ],
      "metadata": {
        "id": "5jWaHTkBBW2z"
      }
    },
    {
      "cell_type": "code",
      "source": [
        "ddl = \"\"\"CREATE TABLE Pets (\n",
        "                  OwnerID STRING(36) NOT NULL, \n",
        "                  PetID STRING(MAX) NOT NULL,     \n",
        "                  PetType STRING(MAX) NOT NULL,\n",
        "                  PetName STRING(MAX) NOT NULL,\n",
        "                  Breed STRING(MAX) NOT NULL,\n",
        "              ) PRIMARY KEY (OwnerID,PetID),\n",
        "                INTERLEAVE IN PARENT Owners ON DELETE CASCADE\"\"\"\n",
        "\n",
        "\n",
        "run_ddl_statement(instance_id, database_id, ddl)"
      ],
      "metadata": {
        "id": "afnOhO3v8LMQ"
      },
      "execution_count": null,
      "outputs": []
    },
    {
      "cell_type": "markdown",
      "source": [
        "## Display the Database Schema"
      ],
      "metadata": {
        "id": "hWEAc578B1Ij"
      }
    },
    {
      "cell_type": "code",
      "source": [
        "def get_database_ddl(instance_id, database_id):\n",
        "    \"\"\"Gets the database DDL statements.\"\"\"\n",
        "    spanner_client = spanner.Client(project=project_id)\n",
        "    instance = spanner_client.instance(instance_id)\n",
        "    database = instance.database(database_id)\n",
        "    ddl = spanner_client.database_admin_api.get_database_ddl(database=database.name)\n",
        "\n",
        "    print(\"Retrieved database DDL for {}\".format(database_id))\n",
        "\n",
        "    for statement in ddl.statements:\n",
        "        print(statement)\n",
        "\n",
        "\n",
        "get_database_ddl(instance_id, database_id)"
      ],
      "metadata": {
        "id": "1J_oDtTK9KVZ"
      },
      "execution_count": null,
      "outputs": []
    },
    {
      "cell_type": "markdown",
      "source": [
        "## Add Some Test Records"
      ],
      "metadata": {
        "id": "GZRGAvhjB8ET"
      }
    },
    {
      "cell_type": "code",
      "source": [
        "import uuid\n",
        "\n",
        "def insert_data(instance_id, database_id):\n",
        "    doug_id = str(uuid.uuid4())\n",
        "    john_id = str(uuid.uuid4())\n",
        "    sue_id = str(uuid.uuid4())\n",
        "\n",
        "    spanner_client = spanner.Client(project=project_id)\n",
        "    instance = spanner_client.instance(instance_id)\n",
        "    database = instance.database(database_id)\n",
        "\n",
        "    with database.batch() as batch:\n",
        "        batch.insert(\n",
        "            table=\"Owners\",\n",
        "            columns=(\"OwnerID\", \"OwnerName\"),\n",
        "            values=[\n",
        "                (doug_id, u\"Doug\"),\n",
        "                (john_id, u\"John\"),\n",
        "                (sue_id, u\"Sue\"),\n",
        "            ],\n",
        "        )\n",
        "\n",
        "        batch.insert(\n",
        "            table=\"Pets\",\n",
        "            columns=(\"PetID\", \"OwnerID\", \"PetType\", \"PetName\", \"Breed\"),\n",
        "            values=[\n",
        "                (str(uuid.uuid4()), doug_id, u\"Dog\", u\"Noir\", u\"Schnoodle\"),\n",
        "                (str(uuid.uuid4()), doug_id, u\"Dog\", u\"Bree\", u\"Mutt\"),\n",
        "                (str(uuid.uuid4()), doug_id, u\"Cat\", u\"Tom\", u\"Alley\"),\n",
        "                (str(uuid.uuid4()), john_id, u\"Dog\", u\"Duke\", u\"GoldenDoodle\"),\\\n",
        "                (str(uuid.uuid4()), john_id, u\"Dog\", u\"Sparky\", u\"Poodle\"),\n",
        "                (str(uuid.uuid4()), john_id, u\"Turtle\", u\"Cuff\", u\"Box\"),\n",
        "                (str(uuid.uuid4()), john_id, u\"Turtle\", u\"Link\", u\"Box\"),\n",
        "                (str(uuid.uuid4()), sue_id, u\"Cat\", u\"Cleo\", u\"Domestic\"),\n",
        "            ],\n",
        "        )\n",
        "\n",
        "    print(\"Inserted data.\")\n",
        "\n",
        "\n",
        "insert_data(instance_id, database_id)"
      ],
      "metadata": {
        "id": "LO-z1x629VKF"
      },
      "execution_count": null,
      "outputs": []
    },
    {
      "cell_type": "markdown",
      "source": [
        "## Runs the Query Passed as an Argument"
      ],
      "metadata": {
        "id": "68K_pvCuCUUq"
      }
    },
    {
      "cell_type": "code",
      "source": [
        "def run_query(sql):\n",
        "  # Instantiate a client.\n",
        "  spanner_client = spanner.Client(project=project_id)\n",
        "\n",
        "  # Get a Cloud Spanner instance by ID.\n",
        "  instance = spanner_client.instance(instance_id)\n",
        "\n",
        "  # Get a Cloud Spanner database by ID.\n",
        "  database = instance.database(database_id)\n",
        "\n",
        "  # Execute a simple SQL statement.\n",
        "  with database.snapshot() as snapshot:\n",
        "      results = snapshot.execute_sql(sql)\n",
        "      for row in results:\n",
        "        print(row)\n"
      ],
      "metadata": {
        "id": "cbNHZ51G-GAq"
      },
      "execution_count": null,
      "outputs": []
    },
    {
      "cell_type": "markdown",
      "source": [
        "## Query with a Join"
      ],
      "metadata": {
        "id": "k3QOelQ6CeKG"
      }
    },
    {
      "cell_type": "code",
      "source": [
        "sql = \"\"\"SELECT Owners.OwnerID, OwnerName, PetName, PetType, Breed \n",
        "         FROM Owners \n",
        "         JOIN Pets ON Owners.OwnerID = Pets.OwnerID;\"\"\"\n",
        "\n",
        "run_query(sql)"
      ],
      "metadata": {
        "id": "Ofdj6ok2-OEj"
      },
      "execution_count": null,
      "outputs": []
    },
    {
      "cell_type": "markdown",
      "source": [
        "Query with Nested Array"
      ],
      "metadata": {
        "id": "T8cj0PiaCi1l"
      }
    },
    {
      "cell_type": "code",
      "source": [
        "sql = \"\"\"SELECT OwnerName,\n",
        "  ARRAY(SELECT AS STRUCT PetName, PetType, Breed FROM Pets WHERE OwnerID = '54b4a7cd-e8cd-4ce6-9775-ac149460fc96') as Pets,\n",
        "FROM Owners WHERE OwnerID = '54b4a7cd-e8cd-4ce6-9775-ac149460fc96';\n",
        "\"\"\"\n",
        "\n",
        "run_query(sql)"
      ],
      "metadata": {
        "id": "O91WCP_l-XAb"
      },
      "execution_count": null,
      "outputs": []
    },
    {
      "cell_type": "markdown",
      "source": [
        "## Query with Aggregated Array"
      ],
      "metadata": {
        "id": "rY-bbqHlgWuS"
      }
    },
    {
      "cell_type": "code",
      "source": [
        "sql = \"\"\"SELECT OwnerName, \n",
        "         Array_Agg(STRUCT(PetName, PetType, Breed)) as Pets\n",
        "         FROM Owners \n",
        "         JOIN Pets ON Owners.OwnerID = Pets.OwnerID\n",
        "         GROUP BY OwnerName;\"\"\"\n",
        "\n",
        "run_query(sql)"
      ],
      "metadata": {
        "id": "8VsstJPbbOnl"
      },
      "execution_count": null,
      "outputs": []
    },
    {
      "cell_type": "markdown",
      "source": [
        "## Delete All the Data"
      ],
      "metadata": {
        "id": "-mB52ZWOC3rL"
      }
    },
    {
      "cell_type": "code",
      "source": [
        "def delete_data_with_dml(instance_id, database_id):\n",
        "    \n",
        "    spanner_client = spanner.Client(project=project_id)\n",
        "    instance = spanner_client.instance(instance_id)\n",
        "    database = instance.database(database_id)\n",
        "\n",
        "    def delete_owners(transaction):\n",
        "        \n",
        "        row_ct = transaction.execute_update(\n",
        "            \"DELETE FROM Owners WHERE true = true\"\n",
        "        )\n",
        "\n",
        "        print(\"{} record(s) deleted.\".format(row_ct))\n",
        "\n",
        "    database.run_in_transaction(delete_owners)\n",
        "\n",
        "# Call the function\n",
        "delete_data_with_dml(instance_id, database_id)\n"
      ],
      "metadata": {
        "id": "cwpex85KC6N7"
      },
      "execution_count": null,
      "outputs": []
    },
    {
      "cell_type": "markdown",
      "source": [
        "## Delete the Database"
      ],
      "metadata": {
        "id": "HfjCtt0CDmgm"
      }
    },
    {
      "cell_type": "code",
      "source": [
        "def delete_database(instance_id, database_id):\n",
        "    \n",
        "    spanner_client = spanner.Client(project=project_id)\n",
        "    instance = spanner_client.instance(instance_id)\n",
        "    database = instance.database(database_id)\n",
        "    \n",
        "    database.drop()\n",
        "\n",
        "    print(\"{} database dropped\".format(database_id))\n",
        "\n",
        "    \n",
        "\n",
        "# Call the function\n",
        "delete_database(instance_id, database_id)"
      ],
      "metadata": {
        "id": "LZjVAHLoDszL"
      },
      "execution_count": null,
      "outputs": []
    },
    {
      "cell_type": "markdown",
      "source": [
        "## Delete the Instance"
      ],
      "metadata": {
        "id": "QawIviJTD1lb"
      }
    },
    {
      "cell_type": "code",
      "source": [
        "def delete_spanner_instance(instance_id):\n",
        "    \n",
        "    spanner_client = spanner.Client(project=project_id)\n",
        "    instance = spanner_client.instance(instance_id)\n",
        "    instance.delete()\n",
        "\n",
        "    print(\"{} instance deleted\".format(instance_id))\n",
        "\n",
        "# Call the function\n",
        "delete_spanner_instance(instance_id)"
      ],
      "metadata": {
        "id": "-98p13_kD4-X"
      },
      "execution_count": null,
      "outputs": []
    }
  ]
}